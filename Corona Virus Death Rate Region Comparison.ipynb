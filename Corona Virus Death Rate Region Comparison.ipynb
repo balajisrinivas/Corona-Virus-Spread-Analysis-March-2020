{
 "cells": [
  {
   "cell_type": "markdown",
   "metadata": {},
   "source": [
    "## Corona Virus Death Rate Region Comparison"
   ]
  },
  {
   "cell_type": "code",
   "execution_count": 1,
   "metadata": {},
   "outputs": [],
   "source": [
    "import numpy as np\n",
    "import pandas as pd\n",
    "import matplotlib.pyplot as plt\n",
    "import random\n",
    "%matplotlib inline"
   ]
  },
  {
   "cell_type": "code",
   "execution_count": 2,
   "metadata": {},
   "outputs": [
    {
     "name": "stdout",
     "output_type": "stream",
     "text": [
      "datasets/2019-nCoV-cases-JHU.csv\n",
      "datasets/DXY_Coronavirus_Area.csv\n",
      "datasets/Pandemic (H1N1) 200905-200907.csv\n",
      "datasets/who_covid_19_sit_rep_time_series.csv\n"
     ]
    }
   ],
   "source": [
    "import os\n",
    "for dirname, _, filenames in os.walk('datasets/'):\n",
    "    for filename in filenames:\n",
    "        print(os.path.join(dirname, filename))"
   ]
  },
  {
   "cell_type": "code",
   "execution_count": 3,
   "metadata": {},
   "outputs": [],
   "source": [
    "data = pd.read_csv(r'datasets/2019-nCoV-cases-JHU.csv')"
   ]
  },
  {
   "cell_type": "code",
   "execution_count": 4,
   "metadata": {},
   "outputs": [
    {
     "data": {
      "text/html": [
       "<div>\n",
       "<style scoped>\n",
       "    .dataframe tbody tr th:only-of-type {\n",
       "        vertical-align: middle;\n",
       "    }\n",
       "\n",
       "    .dataframe tbody tr th {\n",
       "        vertical-align: top;\n",
       "    }\n",
       "\n",
       "    .dataframe thead th {\n",
       "        text-align: right;\n",
       "    }\n",
       "</style>\n",
       "<table border=\"1\" class=\"dataframe\">\n",
       "  <thead>\n",
       "    <tr style=\"text-align: right;\">\n",
       "      <th></th>\n",
       "      <th>Date</th>\n",
       "      <th>Province</th>\n",
       "      <th>Region</th>\n",
       "      <th>Last Update</th>\n",
       "      <th>Confirmed</th>\n",
       "      <th>Deaths</th>\n",
       "      <th>Recovered</th>\n",
       "      <th>Lat</th>\n",
       "      <th>Long</th>\n",
       "    </tr>\n",
       "  </thead>\n",
       "  <tbody>\n",
       "    <tr>\n",
       "      <td>0</td>\n",
       "      <td>3/3/2020 12:00</td>\n",
       "      <td>Hubei</td>\n",
       "      <td>Mainland China</td>\n",
       "      <td>2020-03-03T11:43:02</td>\n",
       "      <td>67217</td>\n",
       "      <td>2835</td>\n",
       "      <td>36208</td>\n",
       "      <td>30.9756</td>\n",
       "      <td>112.2707</td>\n",
       "    </tr>\n",
       "    <tr>\n",
       "      <td>1</td>\n",
       "      <td>3/3/2020 12:00</td>\n",
       "      <td>NaN</td>\n",
       "      <td>South Korea</td>\n",
       "      <td>2020-03-03T09:43:02</td>\n",
       "      <td>5186</td>\n",
       "      <td>28</td>\n",
       "      <td>30</td>\n",
       "      <td>36.0000</td>\n",
       "      <td>128.0000</td>\n",
       "    </tr>\n",
       "    <tr>\n",
       "      <td>2</td>\n",
       "      <td>3/3/2020 12:00</td>\n",
       "      <td>NaN</td>\n",
       "      <td>Italy</td>\n",
       "      <td>2020-03-03T20:03:06</td>\n",
       "      <td>2502</td>\n",
       "      <td>79</td>\n",
       "      <td>160</td>\n",
       "      <td>43.0000</td>\n",
       "      <td>12.0000</td>\n",
       "    </tr>\n",
       "    <tr>\n",
       "      <td>3</td>\n",
       "      <td>3/3/2020 12:00</td>\n",
       "      <td>NaN</td>\n",
       "      <td>Iran</td>\n",
       "      <td>2020-03-03T14:23:03</td>\n",
       "      <td>2336</td>\n",
       "      <td>77</td>\n",
       "      <td>291</td>\n",
       "      <td>32.0000</td>\n",
       "      <td>53.0000</td>\n",
       "    </tr>\n",
       "    <tr>\n",
       "      <td>4</td>\n",
       "      <td>3/3/2020 12:00</td>\n",
       "      <td>Guangdong</td>\n",
       "      <td>Mainland China</td>\n",
       "      <td>2020-03-03T10:23:10</td>\n",
       "      <td>1350</td>\n",
       "      <td>7</td>\n",
       "      <td>1101</td>\n",
       "      <td>23.3417</td>\n",
       "      <td>113.4244</td>\n",
       "    </tr>\n",
       "  </tbody>\n",
       "</table>\n",
       "</div>"
      ],
      "text/plain": [
       "             Date   Province          Region          Last Update  Confirmed  \\\n",
       "0  3/3/2020 12:00      Hubei  Mainland China  2020-03-03T11:43:02      67217   \n",
       "1  3/3/2020 12:00        NaN     South Korea  2020-03-03T09:43:02       5186   \n",
       "2  3/3/2020 12:00        NaN           Italy  2020-03-03T20:03:06       2502   \n",
       "3  3/3/2020 12:00        NaN            Iran  2020-03-03T14:23:03       2336   \n",
       "4  3/3/2020 12:00  Guangdong  Mainland China  2020-03-03T10:23:10       1350   \n",
       "\n",
       "   Deaths  Recovered      Lat      Long  \n",
       "0    2835      36208  30.9756  112.2707  \n",
       "1      28         30  36.0000  128.0000  \n",
       "2      79        160  43.0000   12.0000  \n",
       "3      77        291  32.0000   53.0000  \n",
       "4       7       1101  23.3417  113.4244  "
      ]
     },
     "execution_count": 4,
     "metadata": {},
     "output_type": "execute_result"
    }
   ],
   "source": [
    "data.head()"
   ]
  },
  {
   "cell_type": "code",
   "execution_count": 5,
   "metadata": {},
   "outputs": [],
   "source": [
    "data['Date'] = pd.to_datetime(data['Date'])\n",
    "data['Last Update'] = pd.to_datetime(data['Last Update'])"
   ]
  },
  {
   "cell_type": "code",
   "execution_count": 6,
   "metadata": {},
   "outputs": [
    {
     "data": {
      "text/html": [
       "<div>\n",
       "<style scoped>\n",
       "    .dataframe tbody tr th:only-of-type {\n",
       "        vertical-align: middle;\n",
       "    }\n",
       "\n",
       "    .dataframe tbody tr th {\n",
       "        vertical-align: top;\n",
       "    }\n",
       "\n",
       "    .dataframe thead th {\n",
       "        text-align: right;\n",
       "    }\n",
       "</style>\n",
       "<table border=\"1\" class=\"dataframe\">\n",
       "  <thead>\n",
       "    <tr style=\"text-align: right;\">\n",
       "      <th></th>\n",
       "      <th>Date</th>\n",
       "      <th>Province</th>\n",
       "      <th>Region</th>\n",
       "      <th>Last Update</th>\n",
       "      <th>Confirmed</th>\n",
       "      <th>Deaths</th>\n",
       "      <th>Recovered</th>\n",
       "      <th>Lat</th>\n",
       "      <th>Long</th>\n",
       "    </tr>\n",
       "  </thead>\n",
       "  <tbody>\n",
       "    <tr>\n",
       "      <td>0</td>\n",
       "      <td>2020-03-03 12:00:00</td>\n",
       "      <td>Hubei</td>\n",
       "      <td>Mainland China</td>\n",
       "      <td>2020-03-03 11:43:02</td>\n",
       "      <td>67217</td>\n",
       "      <td>2835</td>\n",
       "      <td>36208</td>\n",
       "      <td>30.9756</td>\n",
       "      <td>112.2707</td>\n",
       "    </tr>\n",
       "    <tr>\n",
       "      <td>1</td>\n",
       "      <td>2020-03-03 12:00:00</td>\n",
       "      <td>NaN</td>\n",
       "      <td>South Korea</td>\n",
       "      <td>2020-03-03 09:43:02</td>\n",
       "      <td>5186</td>\n",
       "      <td>28</td>\n",
       "      <td>30</td>\n",
       "      <td>36.0000</td>\n",
       "      <td>128.0000</td>\n",
       "    </tr>\n",
       "    <tr>\n",
       "      <td>2</td>\n",
       "      <td>2020-03-03 12:00:00</td>\n",
       "      <td>NaN</td>\n",
       "      <td>Italy</td>\n",
       "      <td>2020-03-03 20:03:06</td>\n",
       "      <td>2502</td>\n",
       "      <td>79</td>\n",
       "      <td>160</td>\n",
       "      <td>43.0000</td>\n",
       "      <td>12.0000</td>\n",
       "    </tr>\n",
       "    <tr>\n",
       "      <td>3</td>\n",
       "      <td>2020-03-03 12:00:00</td>\n",
       "      <td>NaN</td>\n",
       "      <td>Iran</td>\n",
       "      <td>2020-03-03 14:23:03</td>\n",
       "      <td>2336</td>\n",
       "      <td>77</td>\n",
       "      <td>291</td>\n",
       "      <td>32.0000</td>\n",
       "      <td>53.0000</td>\n",
       "    </tr>\n",
       "    <tr>\n",
       "      <td>4</td>\n",
       "      <td>2020-03-03 12:00:00</td>\n",
       "      <td>Guangdong</td>\n",
       "      <td>Mainland China</td>\n",
       "      <td>2020-03-03 10:23:10</td>\n",
       "      <td>1350</td>\n",
       "      <td>7</td>\n",
       "      <td>1101</td>\n",
       "      <td>23.3417</td>\n",
       "      <td>113.4244</td>\n",
       "    </tr>\n",
       "  </tbody>\n",
       "</table>\n",
       "</div>"
      ],
      "text/plain": [
       "                 Date   Province          Region         Last Update  \\\n",
       "0 2020-03-03 12:00:00      Hubei  Mainland China 2020-03-03 11:43:02   \n",
       "1 2020-03-03 12:00:00        NaN     South Korea 2020-03-03 09:43:02   \n",
       "2 2020-03-03 12:00:00        NaN           Italy 2020-03-03 20:03:06   \n",
       "3 2020-03-03 12:00:00        NaN            Iran 2020-03-03 14:23:03   \n",
       "4 2020-03-03 12:00:00  Guangdong  Mainland China 2020-03-03 10:23:10   \n",
       "\n",
       "   Confirmed  Deaths  Recovered      Lat      Long  \n",
       "0      67217    2835      36208  30.9756  112.2707  \n",
       "1       5186      28         30  36.0000  128.0000  \n",
       "2       2502      79        160  43.0000   12.0000  \n",
       "3       2336      77        291  32.0000   53.0000  \n",
       "4       1350       7       1101  23.3417  113.4244  "
      ]
     },
     "execution_count": 6,
     "metadata": {},
     "output_type": "execute_result"
    }
   ],
   "source": [
    "data.head()"
   ]
  },
  {
   "cell_type": "code",
   "execution_count": 7,
   "metadata": {},
   "outputs": [
    {
     "name": "stdout",
     "output_type": "stream",
     "text": [
      "<class 'pandas.core.frame.DataFrame'>\n",
      "RangeIndex: 4709 entries, 0 to 4708\n",
      "Data columns (total 9 columns):\n",
      "Date           4709 non-null datetime64[ns]\n",
      "Province       3277 non-null object\n",
      "Region         4709 non-null object\n",
      "Last Update    4709 non-null datetime64[ns]\n",
      "Confirmed      4709 non-null int64\n",
      "Deaths         4709 non-null int64\n",
      "Recovered      4709 non-null int64\n",
      "Lat            417 non-null float64\n",
      "Long           417 non-null float64\n",
      "dtypes: datetime64[ns](2), float64(2), int64(3), object(2)\n",
      "memory usage: 331.2+ KB\n"
     ]
    }
   ],
   "source": [
    "data.info()"
   ]
  },
  {
   "cell_type": "code",
   "execution_count": 8,
   "metadata": {},
   "outputs": [
    {
     "data": {
      "text/plain": [
       "array(['Hubei', nan, 'Guangdong', 'Henan', 'Zhejiang', 'Hunan', 'Anhui',\n",
       "       'Jiangxi', 'Shandong', 'Diamond Princess cruise ship', 'Jiangsu',\n",
       "       'Chongqing', 'Sichuan', 'Heilongjiang', 'Beijing', 'Shanghai',\n",
       "       'Hebei', 'Fujian', 'Guangxi', 'Shaanxi', 'Yunnan', 'Hainan',\n",
       "       'Guizhou', 'Tianjin', 'Shanxi', 'Liaoning', 'Hong Kong', 'Jilin',\n",
       "       'Gansu', 'Xinjiang', 'Inner Mongolia', 'Ningxia',\n",
       "       'Unassigned Location (From Diamond Princess)', 'Taiwan',\n",
       "       'King County, WA', 'Toronto, ON', 'Qinghai', 'New South Wales',\n",
       "       'Queensland', 'Santa Clara, CA', 'Macau', 'Victoria',\n",
       "       'British Columbia', 'Snohomish County, WA', 'Cook County, IL',\n",
       "       'South Australia', 'Western Australia', 'Fulton County, GA',\n",
       "       'Grafton County, NH', 'Hillsborough, FL', 'Providence, RI',\n",
       "       'Sacramento County, CA', 'San Benito, CA', 'San Diego County, CA',\n",
       "       'San Mateo, CA', 'Washington County, OR', 'Tasmania',\n",
       "       ' Montreal, QC', 'London, ON', 'Tibet', ' Norfolk County, MA',\n",
       "       'Berkeley, CA', 'Boston, MA', 'Humboldt County, CA',\n",
       "       'Los Angeles, CA', 'Madison, WI', 'Maricopa County, AZ',\n",
       "       'New York City, NY', 'Orange, CA', 'Placer County, CA',\n",
       "       'San Antonio, TX', 'Sarasota, FL', 'Sonoma County, CA',\n",
       "       'Tempe, AZ', 'Umatilla, OR', 'Wake County, NC',\n",
       "       'Westchester County, NY', 'From Diamond Princess',\n",
       "       'Lackland, TX (From Diamond Princess)',\n",
       "       'Omaha, NE (From Diamond Princess)',\n",
       "       'Travis, CA (From Diamond Princess)', 'Portland, OR',\n",
       "       'Seattle, WA', 'Chicago, IL', 'None', 'Ashland, NE', 'Travis, CA',\n",
       "       'Lackland, TX', 'Cruise Ship', 'Ontario', 'Washington', 'Illinois',\n",
       "       'California', 'Arizona', 'Bavaria', 'Chicago'], dtype=object)"
      ]
     },
     "execution_count": 8,
     "metadata": {},
     "output_type": "execute_result"
    }
   ],
   "source": [
    "data['Province'].unique()"
   ]
  },
  {
   "cell_type": "code",
   "execution_count": 9,
   "metadata": {},
   "outputs": [
    {
     "data": {
      "text/plain": [
       "array(['Mainland China', 'South Korea', 'Italy', 'Iran', 'Others',\n",
       "       'Japan', 'France', 'Germany', 'Spain', 'Singapore', 'Hong Kong',\n",
       "       'Kuwait', 'Switzerland', 'UK', 'Bahrain', 'US', 'Thailand',\n",
       "       'Taiwan', 'Malaysia', 'Iraq', 'Norway', 'United Arab Emirates',\n",
       "       'Netherlands', 'Austria', 'Sweden', 'Canada', 'Vietnam',\n",
       "       'Australia', 'Belgium', 'Lebanon', 'Israel', 'Oman', 'Iceland',\n",
       "       'Macau', 'San Marino', 'Croatia', 'Ecuador', 'Greece', 'Qatar',\n",
       "       'Denmark', 'Finland', 'Algeria', 'Czech Republic', 'India',\n",
       "       'Mexico', 'Pakistan', 'Azerbaijan', 'Georgia', 'Philippines',\n",
       "       'Romania', 'Russia', 'Brazil', 'Egypt', 'Estonia', 'Indonesia',\n",
       "       'Ireland', 'Portugal', 'Senegal', 'Afghanistan', 'Andorra',\n",
       "       'Argentina', 'Armenia', 'Belarus', 'Cambodia', 'Chile',\n",
       "       'Dominican Republic', 'Jordan', 'Latvia', 'Lithuania',\n",
       "       'Luxembourg', 'Monaco', 'Morocco', 'Nepal', 'New Zealand',\n",
       "       'Nigeria', 'North Macedonia', 'Saudi Arabia', 'Sri Lanka',\n",
       "       'Ukraine', ' Azerbaijan', 'North Ireland', 'Ivory Coast',\n",
       "       'Colombia', 'United States'], dtype=object)"
      ]
     },
     "execution_count": 9,
     "metadata": {},
     "output_type": "execute_result"
    }
   ],
   "source": [
    "data['Region'].unique()"
   ]
  },
  {
   "cell_type": "code",
   "execution_count": 10,
   "metadata": {},
   "outputs": [
    {
     "data": {
      "text/plain": [
       "96"
      ]
     },
     "execution_count": 10,
     "metadata": {},
     "output_type": "execute_result"
    }
   ],
   "source": [
    "data['Province'].unique().size"
   ]
  },
  {
   "cell_type": "code",
   "execution_count": 11,
   "metadata": {},
   "outputs": [
    {
     "data": {
      "text/plain": [
       "84"
      ]
     },
     "execution_count": 11,
     "metadata": {},
     "output_type": "execute_result"
    }
   ],
   "source": [
    "data['Region'].unique().size"
   ]
  },
  {
   "cell_type": "code",
   "execution_count": 12,
   "metadata": {},
   "outputs": [
    {
     "data": {
      "text/plain": [
       "67217"
      ]
     },
     "execution_count": 12,
     "metadata": {},
     "output_type": "execute_result"
    }
   ],
   "source": [
    "data['Confirmed'].max()"
   ]
  },
  {
   "cell_type": "code",
   "execution_count": 13,
   "metadata": {
    "scrolled": true
   },
   "outputs": [
    {
     "data": {
      "text/html": [
       "<div>\n",
       "<style scoped>\n",
       "    .dataframe tbody tr th:only-of-type {\n",
       "        vertical-align: middle;\n",
       "    }\n",
       "\n",
       "    .dataframe tbody tr th {\n",
       "        vertical-align: top;\n",
       "    }\n",
       "\n",
       "    .dataframe thead th {\n",
       "        text-align: right;\n",
       "    }\n",
       "</style>\n",
       "<table border=\"1\" class=\"dataframe\">\n",
       "  <thead>\n",
       "    <tr style=\"text-align: right;\">\n",
       "      <th></th>\n",
       "      <th>Date</th>\n",
       "      <th>Province</th>\n",
       "      <th>Region</th>\n",
       "      <th>Last Update</th>\n",
       "      <th>Confirmed</th>\n",
       "      <th>Deaths</th>\n",
       "      <th>Recovered</th>\n",
       "      <th>Lat</th>\n",
       "      <th>Long</th>\n",
       "    </tr>\n",
       "  </thead>\n",
       "  <tbody>\n",
       "    <tr>\n",
       "      <td>0</td>\n",
       "      <td>2020-03-03 12:00:00</td>\n",
       "      <td>Hubei</td>\n",
       "      <td>Mainland China</td>\n",
       "      <td>2020-03-03 11:43:02</td>\n",
       "      <td>67217</td>\n",
       "      <td>2835</td>\n",
       "      <td>36208</td>\n",
       "      <td>30.9756</td>\n",
       "      <td>112.2707</td>\n",
       "    </tr>\n",
       "  </tbody>\n",
       "</table>\n",
       "</div>"
      ],
      "text/plain": [
       "                 Date Province          Region         Last Update  Confirmed  \\\n",
       "0 2020-03-03 12:00:00    Hubei  Mainland China 2020-03-03 11:43:02      67217   \n",
       "\n",
       "   Deaths  Recovered      Lat      Long  \n",
       "0    2835      36208  30.9756  112.2707  "
      ]
     },
     "execution_count": 13,
     "metadata": {},
     "output_type": "execute_result"
    }
   ],
   "source": [
    "data.loc[data['Confirmed'] == 67217]"
   ]
  },
  {
   "cell_type": "code",
   "execution_count": 14,
   "metadata": {},
   "outputs": [
    {
     "data": {
      "text/plain": [
       "2835"
      ]
     },
     "execution_count": 14,
     "metadata": {},
     "output_type": "execute_result"
    }
   ],
   "source": [
    "data['Deaths'].max()"
   ]
  },
  {
   "cell_type": "code",
   "execution_count": 15,
   "metadata": {},
   "outputs": [
    {
     "data": {
      "text/plain": [
       "0"
      ]
     },
     "execution_count": 15,
     "metadata": {},
     "output_type": "execute_result"
    }
   ],
   "source": [
    "data['Confirmed'].min()"
   ]
  },
  {
   "cell_type": "code",
   "execution_count": 16,
   "metadata": {},
   "outputs": [
    {
     "data": {
      "text/html": [
       "<div>\n",
       "<style scoped>\n",
       "    .dataframe tbody tr th:only-of-type {\n",
       "        vertical-align: middle;\n",
       "    }\n",
       "\n",
       "    .dataframe tbody tr th {\n",
       "        vertical-align: top;\n",
       "    }\n",
       "\n",
       "    .dataframe thead th {\n",
       "        text-align: right;\n",
       "    }\n",
       "</style>\n",
       "<table border=\"1\" class=\"dataframe\">\n",
       "  <thead>\n",
       "    <tr style=\"text-align: right;\">\n",
       "      <th></th>\n",
       "      <th>Date</th>\n",
       "      <th>Province</th>\n",
       "      <th>Region</th>\n",
       "      <th>Last Update</th>\n",
       "      <th>Confirmed</th>\n",
       "      <th>Deaths</th>\n",
       "      <th>Recovered</th>\n",
       "      <th>Lat</th>\n",
       "      <th>Long</th>\n",
       "    </tr>\n",
       "  </thead>\n",
       "  <tbody>\n",
       "    <tr>\n",
       "      <td>147</td>\n",
       "      <td>2020-03-03 12:00:00</td>\n",
       "      <td>From Diamond Princess</td>\n",
       "      <td>Australia</td>\n",
       "      <td>2020-02-29 02:03:10</td>\n",
       "      <td>0</td>\n",
       "      <td>0</td>\n",
       "      <td>0</td>\n",
       "      <td>35.4437</td>\n",
       "      <td>139.6380</td>\n",
       "    </tr>\n",
       "    <tr>\n",
       "      <td>148</td>\n",
       "      <td>2020-03-03 12:00:00</td>\n",
       "      <td>Lackland, TX (From Diamond Princess)</td>\n",
       "      <td>US</td>\n",
       "      <td>2020-02-24 23:33:02</td>\n",
       "      <td>0</td>\n",
       "      <td>0</td>\n",
       "      <td>0</td>\n",
       "      <td>29.3829</td>\n",
       "      <td>-98.6134</td>\n",
       "    </tr>\n",
       "    <tr>\n",
       "      <td>149</td>\n",
       "      <td>2020-03-03 12:00:00</td>\n",
       "      <td>Omaha, NE (From Diamond Princess)</td>\n",
       "      <td>US</td>\n",
       "      <td>2020-02-24 23:33:02</td>\n",
       "      <td>0</td>\n",
       "      <td>0</td>\n",
       "      <td>0</td>\n",
       "      <td>41.2545</td>\n",
       "      <td>-95.9758</td>\n",
       "    </tr>\n",
       "    <tr>\n",
       "      <td>150</td>\n",
       "      <td>2020-03-03 12:00:00</td>\n",
       "      <td>Travis, CA (From Diamond Princess)</td>\n",
       "      <td>US</td>\n",
       "      <td>2020-02-24 23:33:02</td>\n",
       "      <td>0</td>\n",
       "      <td>0</td>\n",
       "      <td>0</td>\n",
       "      <td>38.2721</td>\n",
       "      <td>-121.9399</td>\n",
       "    </tr>\n",
       "    <tr>\n",
       "      <td>288</td>\n",
       "      <td>2020-03-02 12:00:00</td>\n",
       "      <td>From Diamond Princess</td>\n",
       "      <td>Australia</td>\n",
       "      <td>2020-02-29 02:03:10</td>\n",
       "      <td>0</td>\n",
       "      <td>0</td>\n",
       "      <td>0</td>\n",
       "      <td>35.4437</td>\n",
       "      <td>139.6380</td>\n",
       "    </tr>\n",
       "    <tr>\n",
       "      <td>...</td>\n",
       "      <td>...</td>\n",
       "      <td>...</td>\n",
       "      <td>...</td>\n",
       "      <td>...</td>\n",
       "      <td>...</td>\n",
       "      <td>...</td>\n",
       "      <td>...</td>\n",
       "      <td>...</td>\n",
       "      <td>...</td>\n",
       "    </tr>\n",
       "    <tr>\n",
       "      <td>4697</td>\n",
       "      <td>2020-01-22 00:00:00</td>\n",
       "      <td>Hainan</td>\n",
       "      <td>Mainland China</td>\n",
       "      <td>2020-01-22 00:00:00</td>\n",
       "      <td>0</td>\n",
       "      <td>0</td>\n",
       "      <td>0</td>\n",
       "      <td>NaN</td>\n",
       "      <td>NaN</td>\n",
       "    </tr>\n",
       "    <tr>\n",
       "      <td>4700</td>\n",
       "      <td>2020-01-22 00:00:00</td>\n",
       "      <td>Guizhou</td>\n",
       "      <td>Mainland China</td>\n",
       "      <td>2020-01-22 00:00:00</td>\n",
       "      <td>0</td>\n",
       "      <td>0</td>\n",
       "      <td>0</td>\n",
       "      <td>NaN</td>\n",
       "      <td>NaN</td>\n",
       "    </tr>\n",
       "    <tr>\n",
       "      <td>4701</td>\n",
       "      <td>2020-01-22 00:00:00</td>\n",
       "      <td>Liaoning</td>\n",
       "      <td>Mainland China</td>\n",
       "      <td>2020-01-22 00:00:00</td>\n",
       "      <td>0</td>\n",
       "      <td>0</td>\n",
       "      <td>0</td>\n",
       "      <td>NaN</td>\n",
       "      <td>NaN</td>\n",
       "    </tr>\n",
       "    <tr>\n",
       "      <td>4703</td>\n",
       "      <td>2020-01-22 00:00:00</td>\n",
       "      <td>Hong Kong</td>\n",
       "      <td>Mainland China</td>\n",
       "      <td>2020-01-22 00:00:00</td>\n",
       "      <td>0</td>\n",
       "      <td>0</td>\n",
       "      <td>0</td>\n",
       "      <td>NaN</td>\n",
       "      <td>NaN</td>\n",
       "    </tr>\n",
       "    <tr>\n",
       "      <td>4704</td>\n",
       "      <td>2020-01-22 00:00:00</td>\n",
       "      <td>Heilongjiang</td>\n",
       "      <td>Mainland China</td>\n",
       "      <td>2020-01-22 00:00:00</td>\n",
       "      <td>0</td>\n",
       "      <td>0</td>\n",
       "      <td>0</td>\n",
       "      <td>NaN</td>\n",
       "      <td>NaN</td>\n",
       "    </tr>\n",
       "  </tbody>\n",
       "</table>\n",
       "<p>62 rows × 9 columns</p>\n",
       "</div>"
      ],
      "text/plain": [
       "                    Date                              Province  \\\n",
       "147  2020-03-03 12:00:00                 From Diamond Princess   \n",
       "148  2020-03-03 12:00:00  Lackland, TX (From Diamond Princess)   \n",
       "149  2020-03-03 12:00:00     Omaha, NE (From Diamond Princess)   \n",
       "150  2020-03-03 12:00:00    Travis, CA (From Diamond Princess)   \n",
       "288  2020-03-02 12:00:00                 From Diamond Princess   \n",
       "...                  ...                                   ...   \n",
       "4697 2020-01-22 00:00:00                                Hainan   \n",
       "4700 2020-01-22 00:00:00                               Guizhou   \n",
       "4701 2020-01-22 00:00:00                              Liaoning   \n",
       "4703 2020-01-22 00:00:00                             Hong Kong   \n",
       "4704 2020-01-22 00:00:00                          Heilongjiang   \n",
       "\n",
       "              Region         Last Update  Confirmed  Deaths  Recovered  \\\n",
       "147        Australia 2020-02-29 02:03:10          0       0          0   \n",
       "148               US 2020-02-24 23:33:02          0       0          0   \n",
       "149               US 2020-02-24 23:33:02          0       0          0   \n",
       "150               US 2020-02-24 23:33:02          0       0          0   \n",
       "288        Australia 2020-02-29 02:03:10          0       0          0   \n",
       "...              ...                 ...        ...     ...        ...   \n",
       "4697  Mainland China 2020-01-22 00:00:00          0       0          0   \n",
       "4700  Mainland China 2020-01-22 00:00:00          0       0          0   \n",
       "4701  Mainland China 2020-01-22 00:00:00          0       0          0   \n",
       "4703  Mainland China 2020-01-22 00:00:00          0       0          0   \n",
       "4704  Mainland China 2020-01-22 00:00:00          0       0          0   \n",
       "\n",
       "          Lat      Long  \n",
       "147   35.4437  139.6380  \n",
       "148   29.3829  -98.6134  \n",
       "149   41.2545  -95.9758  \n",
       "150   38.2721 -121.9399  \n",
       "288   35.4437  139.6380  \n",
       "...       ...       ...  \n",
       "4697      NaN       NaN  \n",
       "4700      NaN       NaN  \n",
       "4701      NaN       NaN  \n",
       "4703      NaN       NaN  \n",
       "4704      NaN       NaN  \n",
       "\n",
       "[62 rows x 9 columns]"
      ]
     },
     "execution_count": 16,
     "metadata": {},
     "output_type": "execute_result"
    }
   ],
   "source": [
    "data.loc[data['Confirmed'] == 0]"
   ]
  },
  {
   "cell_type": "code",
   "execution_count": 17,
   "metadata": {},
   "outputs": [
    {
     "data": {
      "text/html": [
       "<div>\n",
       "<style scoped>\n",
       "    .dataframe tbody tr th:only-of-type {\n",
       "        vertical-align: middle;\n",
       "    }\n",
       "\n",
       "    .dataframe tbody tr th {\n",
       "        vertical-align: top;\n",
       "    }\n",
       "\n",
       "    .dataframe thead th {\n",
       "        text-align: right;\n",
       "    }\n",
       "</style>\n",
       "<table border=\"1\" class=\"dataframe\">\n",
       "  <thead>\n",
       "    <tr style=\"text-align: right;\">\n",
       "      <th></th>\n",
       "      <th>Date</th>\n",
       "      <th>Province</th>\n",
       "      <th>Region</th>\n",
       "      <th>Last Update</th>\n",
       "      <th>Confirmed</th>\n",
       "      <th>Deaths</th>\n",
       "      <th>Recovered</th>\n",
       "      <th>Lat</th>\n",
       "      <th>Long</th>\n",
       "    </tr>\n",
       "  </thead>\n",
       "  <tbody>\n",
       "    <tr>\n",
       "      <td>12</td>\n",
       "      <td>2020-03-03 12:00:00</td>\n",
       "      <td>Jiangsu</td>\n",
       "      <td>Mainland China</td>\n",
       "      <td>2020-03-03 11:03:09</td>\n",
       "      <td>631</td>\n",
       "      <td>0</td>\n",
       "      <td>562</td>\n",
       "      <td>32.9711</td>\n",
       "      <td>119.4550</td>\n",
       "    </tr>\n",
       "    <tr>\n",
       "      <td>24</td>\n",
       "      <td>2020-03-03 12:00:00</td>\n",
       "      <td>NaN</td>\n",
       "      <td>Germany</td>\n",
       "      <td>2020-03-03 20:03:06</td>\n",
       "      <td>196</td>\n",
       "      <td>0</td>\n",
       "      <td>16</td>\n",
       "      <td>51.0000</td>\n",
       "      <td>9.0000</td>\n",
       "    </tr>\n",
       "    <tr>\n",
       "      <td>30</td>\n",
       "      <td>2020-03-03 12:00:00</td>\n",
       "      <td>Shanxi</td>\n",
       "      <td>Mainland China</td>\n",
       "      <td>2020-03-03 23:13:05</td>\n",
       "      <td>133</td>\n",
       "      <td>0</td>\n",
       "      <td>124</td>\n",
       "      <td>37.5777</td>\n",
       "      <td>112.2922</td>\n",
       "    </tr>\n",
       "    <tr>\n",
       "      <td>32</td>\n",
       "      <td>2020-03-03 12:00:00</td>\n",
       "      <td>NaN</td>\n",
       "      <td>Singapore</td>\n",
       "      <td>2020-03-03 15:23:03</td>\n",
       "      <td>110</td>\n",
       "      <td>0</td>\n",
       "      <td>78</td>\n",
       "      <td>1.2833</td>\n",
       "      <td>103.8333</td>\n",
       "    </tr>\n",
       "    <tr>\n",
       "      <td>38</td>\n",
       "      <td>2020-03-03 12:00:00</td>\n",
       "      <td>Ningxia</td>\n",
       "      <td>Mainland China</td>\n",
       "      <td>2020-03-02 01:33:02</td>\n",
       "      <td>74</td>\n",
       "      <td>0</td>\n",
       "      <td>69</td>\n",
       "      <td>37.2692</td>\n",
       "      <td>106.1655</td>\n",
       "    </tr>\n",
       "    <tr>\n",
       "      <td>...</td>\n",
       "      <td>...</td>\n",
       "      <td>...</td>\n",
       "      <td>...</td>\n",
       "      <td>...</td>\n",
       "      <td>...</td>\n",
       "      <td>...</td>\n",
       "      <td>...</td>\n",
       "      <td>...</td>\n",
       "      <td>...</td>\n",
       "    </tr>\n",
       "    <tr>\n",
       "      <td>4704</td>\n",
       "      <td>2020-01-22 00:00:00</td>\n",
       "      <td>Heilongjiang</td>\n",
       "      <td>Mainland China</td>\n",
       "      <td>2020-01-22 00:00:00</td>\n",
       "      <td>0</td>\n",
       "      <td>0</td>\n",
       "      <td>0</td>\n",
       "      <td>NaN</td>\n",
       "      <td>NaN</td>\n",
       "    </tr>\n",
       "    <tr>\n",
       "      <td>4705</td>\n",
       "      <td>2020-01-22 00:00:00</td>\n",
       "      <td>NaN</td>\n",
       "      <td>Japan</td>\n",
       "      <td>2020-01-22 00:00:00</td>\n",
       "      <td>1</td>\n",
       "      <td>0</td>\n",
       "      <td>0</td>\n",
       "      <td>NaN</td>\n",
       "      <td>NaN</td>\n",
       "    </tr>\n",
       "    <tr>\n",
       "      <td>4706</td>\n",
       "      <td>2020-01-22 00:00:00</td>\n",
       "      <td>NaN</td>\n",
       "      <td>Thailand</td>\n",
       "      <td>2020-01-22 00:00:00</td>\n",
       "      <td>2</td>\n",
       "      <td>0</td>\n",
       "      <td>0</td>\n",
       "      <td>NaN</td>\n",
       "      <td>NaN</td>\n",
       "    </tr>\n",
       "    <tr>\n",
       "      <td>4707</td>\n",
       "      <td>2020-01-22 00:00:00</td>\n",
       "      <td>NaN</td>\n",
       "      <td>South Korea</td>\n",
       "      <td>2020-01-22 00:00:00</td>\n",
       "      <td>1</td>\n",
       "      <td>0</td>\n",
       "      <td>0</td>\n",
       "      <td>NaN</td>\n",
       "      <td>NaN</td>\n",
       "    </tr>\n",
       "    <tr>\n",
       "      <td>4708</td>\n",
       "      <td>2020-01-22 00:00:00</td>\n",
       "      <td>Washington</td>\n",
       "      <td>United States</td>\n",
       "      <td>2020-01-22 00:00:00</td>\n",
       "      <td>1</td>\n",
       "      <td>0</td>\n",
       "      <td>0</td>\n",
       "      <td>NaN</td>\n",
       "      <td>NaN</td>\n",
       "    </tr>\n",
       "  </tbody>\n",
       "</table>\n",
       "<p>3578 rows × 9 columns</p>\n",
       "</div>"
      ],
      "text/plain": [
       "                    Date      Province          Region         Last Update  \\\n",
       "12   2020-03-03 12:00:00       Jiangsu  Mainland China 2020-03-03 11:03:09   \n",
       "24   2020-03-03 12:00:00           NaN         Germany 2020-03-03 20:03:06   \n",
       "30   2020-03-03 12:00:00        Shanxi  Mainland China 2020-03-03 23:13:05   \n",
       "32   2020-03-03 12:00:00           NaN       Singapore 2020-03-03 15:23:03   \n",
       "38   2020-03-03 12:00:00       Ningxia  Mainland China 2020-03-02 01:33:02   \n",
       "...                  ...           ...             ...                 ...   \n",
       "4704 2020-01-22 00:00:00  Heilongjiang  Mainland China 2020-01-22 00:00:00   \n",
       "4705 2020-01-22 00:00:00           NaN           Japan 2020-01-22 00:00:00   \n",
       "4706 2020-01-22 00:00:00           NaN        Thailand 2020-01-22 00:00:00   \n",
       "4707 2020-01-22 00:00:00           NaN     South Korea 2020-01-22 00:00:00   \n",
       "4708 2020-01-22 00:00:00    Washington   United States 2020-01-22 00:00:00   \n",
       "\n",
       "      Confirmed  Deaths  Recovered      Lat      Long  \n",
       "12          631       0        562  32.9711  119.4550  \n",
       "24          196       0         16  51.0000    9.0000  \n",
       "30          133       0        124  37.5777  112.2922  \n",
       "32          110       0         78   1.2833  103.8333  \n",
       "38           74       0         69  37.2692  106.1655  \n",
       "...         ...     ...        ...      ...       ...  \n",
       "4704          0       0          0      NaN       NaN  \n",
       "4705          1       0          0      NaN       NaN  \n",
       "4706          2       0          0      NaN       NaN  \n",
       "4707          1       0          0      NaN       NaN  \n",
       "4708          1       0          0      NaN       NaN  \n",
       "\n",
       "[3578 rows x 9 columns]"
      ]
     },
     "execution_count": 17,
     "metadata": {},
     "output_type": "execute_result"
    }
   ],
   "source": [
    "data.loc[data['Deaths'] == 0]"
   ]
  },
  {
   "cell_type": "code",
   "execution_count": 18,
   "metadata": {},
   "outputs": [
    {
     "data": {
      "text/html": [
       "<div>\n",
       "<style scoped>\n",
       "    .dataframe tbody tr th:only-of-type {\n",
       "        vertical-align: middle;\n",
       "    }\n",
       "\n",
       "    .dataframe tbody tr th {\n",
       "        vertical-align: top;\n",
       "    }\n",
       "\n",
       "    .dataframe thead th {\n",
       "        text-align: right;\n",
       "    }\n",
       "</style>\n",
       "<table border=\"1\" class=\"dataframe\">\n",
       "  <thead>\n",
       "    <tr style=\"text-align: right;\">\n",
       "      <th></th>\n",
       "      <th>Date</th>\n",
       "      <th>Province</th>\n",
       "      <th>Region</th>\n",
       "      <th>Last Update</th>\n",
       "      <th>Confirmed</th>\n",
       "      <th>Deaths</th>\n",
       "      <th>Recovered</th>\n",
       "      <th>Lat</th>\n",
       "      <th>Long</th>\n",
       "    </tr>\n",
       "  </thead>\n",
       "  <tbody>\n",
       "    <tr>\n",
       "      <td>147</td>\n",
       "      <td>2020-03-03 12:00:00</td>\n",
       "      <td>From Diamond Princess</td>\n",
       "      <td>Australia</td>\n",
       "      <td>2020-02-29 02:03:10</td>\n",
       "      <td>0</td>\n",
       "      <td>0</td>\n",
       "      <td>0</td>\n",
       "      <td>35.4437</td>\n",
       "      <td>139.6380</td>\n",
       "    </tr>\n",
       "    <tr>\n",
       "      <td>148</td>\n",
       "      <td>2020-03-03 12:00:00</td>\n",
       "      <td>Lackland, TX (From Diamond Princess)</td>\n",
       "      <td>US</td>\n",
       "      <td>2020-02-24 23:33:02</td>\n",
       "      <td>0</td>\n",
       "      <td>0</td>\n",
       "      <td>0</td>\n",
       "      <td>29.3829</td>\n",
       "      <td>-98.6134</td>\n",
       "    </tr>\n",
       "    <tr>\n",
       "      <td>149</td>\n",
       "      <td>2020-03-03 12:00:00</td>\n",
       "      <td>Omaha, NE (From Diamond Princess)</td>\n",
       "      <td>US</td>\n",
       "      <td>2020-02-24 23:33:02</td>\n",
       "      <td>0</td>\n",
       "      <td>0</td>\n",
       "      <td>0</td>\n",
       "      <td>41.2545</td>\n",
       "      <td>-95.9758</td>\n",
       "    </tr>\n",
       "    <tr>\n",
       "      <td>150</td>\n",
       "      <td>2020-03-03 12:00:00</td>\n",
       "      <td>Travis, CA (From Diamond Princess)</td>\n",
       "      <td>US</td>\n",
       "      <td>2020-02-24 23:33:02</td>\n",
       "      <td>0</td>\n",
       "      <td>0</td>\n",
       "      <td>0</td>\n",
       "      <td>38.2721</td>\n",
       "      <td>-121.9399</td>\n",
       "    </tr>\n",
       "    <tr>\n",
       "      <td>288</td>\n",
       "      <td>2020-03-02 12:00:00</td>\n",
       "      <td>From Diamond Princess</td>\n",
       "      <td>Australia</td>\n",
       "      <td>2020-02-29 02:03:10</td>\n",
       "      <td>0</td>\n",
       "      <td>0</td>\n",
       "      <td>0</td>\n",
       "      <td>35.4437</td>\n",
       "      <td>139.6380</td>\n",
       "    </tr>\n",
       "    <tr>\n",
       "      <td>...</td>\n",
       "      <td>...</td>\n",
       "      <td>...</td>\n",
       "      <td>...</td>\n",
       "      <td>...</td>\n",
       "      <td>...</td>\n",
       "      <td>...</td>\n",
       "      <td>...</td>\n",
       "      <td>...</td>\n",
       "      <td>...</td>\n",
       "    </tr>\n",
       "    <tr>\n",
       "      <td>4697</td>\n",
       "      <td>2020-01-22 00:00:00</td>\n",
       "      <td>Hainan</td>\n",
       "      <td>Mainland China</td>\n",
       "      <td>2020-01-22 00:00:00</td>\n",
       "      <td>0</td>\n",
       "      <td>0</td>\n",
       "      <td>0</td>\n",
       "      <td>NaN</td>\n",
       "      <td>NaN</td>\n",
       "    </tr>\n",
       "    <tr>\n",
       "      <td>4700</td>\n",
       "      <td>2020-01-22 00:00:00</td>\n",
       "      <td>Guizhou</td>\n",
       "      <td>Mainland China</td>\n",
       "      <td>2020-01-22 00:00:00</td>\n",
       "      <td>0</td>\n",
       "      <td>0</td>\n",
       "      <td>0</td>\n",
       "      <td>NaN</td>\n",
       "      <td>NaN</td>\n",
       "    </tr>\n",
       "    <tr>\n",
       "      <td>4701</td>\n",
       "      <td>2020-01-22 00:00:00</td>\n",
       "      <td>Liaoning</td>\n",
       "      <td>Mainland China</td>\n",
       "      <td>2020-01-22 00:00:00</td>\n",
       "      <td>0</td>\n",
       "      <td>0</td>\n",
       "      <td>0</td>\n",
       "      <td>NaN</td>\n",
       "      <td>NaN</td>\n",
       "    </tr>\n",
       "    <tr>\n",
       "      <td>4703</td>\n",
       "      <td>2020-01-22 00:00:00</td>\n",
       "      <td>Hong Kong</td>\n",
       "      <td>Mainland China</td>\n",
       "      <td>2020-01-22 00:00:00</td>\n",
       "      <td>0</td>\n",
       "      <td>0</td>\n",
       "      <td>0</td>\n",
       "      <td>NaN</td>\n",
       "      <td>NaN</td>\n",
       "    </tr>\n",
       "    <tr>\n",
       "      <td>4704</td>\n",
       "      <td>2020-01-22 00:00:00</td>\n",
       "      <td>Heilongjiang</td>\n",
       "      <td>Mainland China</td>\n",
       "      <td>2020-01-22 00:00:00</td>\n",
       "      <td>0</td>\n",
       "      <td>0</td>\n",
       "      <td>0</td>\n",
       "      <td>NaN</td>\n",
       "      <td>NaN</td>\n",
       "    </tr>\n",
       "  </tbody>\n",
       "</table>\n",
       "<p>62 rows × 9 columns</p>\n",
       "</div>"
      ],
      "text/plain": [
       "                    Date                              Province  \\\n",
       "147  2020-03-03 12:00:00                 From Diamond Princess   \n",
       "148  2020-03-03 12:00:00  Lackland, TX (From Diamond Princess)   \n",
       "149  2020-03-03 12:00:00     Omaha, NE (From Diamond Princess)   \n",
       "150  2020-03-03 12:00:00    Travis, CA (From Diamond Princess)   \n",
       "288  2020-03-02 12:00:00                 From Diamond Princess   \n",
       "...                  ...                                   ...   \n",
       "4697 2020-01-22 00:00:00                                Hainan   \n",
       "4700 2020-01-22 00:00:00                               Guizhou   \n",
       "4701 2020-01-22 00:00:00                              Liaoning   \n",
       "4703 2020-01-22 00:00:00                             Hong Kong   \n",
       "4704 2020-01-22 00:00:00                          Heilongjiang   \n",
       "\n",
       "              Region         Last Update  Confirmed  Deaths  Recovered  \\\n",
       "147        Australia 2020-02-29 02:03:10          0       0          0   \n",
       "148               US 2020-02-24 23:33:02          0       0          0   \n",
       "149               US 2020-02-24 23:33:02          0       0          0   \n",
       "150               US 2020-02-24 23:33:02          0       0          0   \n",
       "288        Australia 2020-02-29 02:03:10          0       0          0   \n",
       "...              ...                 ...        ...     ...        ...   \n",
       "4697  Mainland China 2020-01-22 00:00:00          0       0          0   \n",
       "4700  Mainland China 2020-01-22 00:00:00          0       0          0   \n",
       "4701  Mainland China 2020-01-22 00:00:00          0       0          0   \n",
       "4703  Mainland China 2020-01-22 00:00:00          0       0          0   \n",
       "4704  Mainland China 2020-01-22 00:00:00          0       0          0   \n",
       "\n",
       "          Lat      Long  \n",
       "147   35.4437  139.6380  \n",
       "148   29.3829  -98.6134  \n",
       "149   41.2545  -95.9758  \n",
       "150   38.2721 -121.9399  \n",
       "288   35.4437  139.6380  \n",
       "...       ...       ...  \n",
       "4697      NaN       NaN  \n",
       "4700      NaN       NaN  \n",
       "4701      NaN       NaN  \n",
       "4703      NaN       NaN  \n",
       "4704      NaN       NaN  \n",
       "\n",
       "[62 rows x 9 columns]"
      ]
     },
     "execution_count": 18,
     "metadata": {},
     "output_type": "execute_result"
    }
   ],
   "source": [
    "data.loc[(data['Deaths'] == 0) & (data['Confirmed'] == 0)]"
   ]
  },
  {
   "cell_type": "code",
   "execution_count": 19,
   "metadata": {},
   "outputs": [
    {
     "data": {
      "text/plain": [
       "Region\n",
       "South Korea      25723\n",
       "Others           12845\n",
       "Italy            10233\n",
       "Iran              6432\n",
       "Japan             3614\n",
       "                 ...  \n",
       "North Ireland        1\n",
       "Jordan               1\n",
       "Chile                1\n",
       " Azerbaijan          1\n",
       "Colombia             0\n",
       "Name: Confirmed, Length: 83, dtype: int64"
      ]
     },
     "execution_count": 19,
     "metadata": {},
     "output_type": "execute_result"
    }
   ],
   "source": [
    "(data[data['Region']!='Mainland China']).groupby(['Region']).sum().sort_values(by=['Confirmed'],ascending=False)['Confirmed']"
   ]
  },
  {
   "cell_type": "code",
   "execution_count": 20,
   "metadata": {},
   "outputs": [],
   "source": [
    "data_region_confirmed = (data[data['Region']!='Mainland China']).groupby(['Region']).sum().sort_values(by=['Confirmed'],ascending=False)['Confirmed']"
   ]
  },
  {
   "cell_type": "code",
   "execution_count": 21,
   "metadata": {},
   "outputs": [
    {
     "data": {
      "text/plain": [
       "pandas.core.series.Series"
      ]
     },
     "execution_count": 21,
     "metadata": {},
     "output_type": "execute_result"
    }
   ],
   "source": [
    "type(data_region_confirmed)"
   ]
  },
  {
   "cell_type": "code",
   "execution_count": 22,
   "metadata": {
    "scrolled": false
   },
   "outputs": [
    {
     "data": {
      "text/plain": [
       "<matplotlib.axes._subplots.AxesSubplot at 0x231129f3bc8>"
      ]
     },
     "execution_count": 22,
     "metadata": {},
     "output_type": "execute_result"
    },
    {
     "data": {
      "image/png": "[encoded data removed]",
      "text/plain": [
       "<Figure size 1080x720 with 1 Axes>"
      ]
     },
     "metadata": {
      "needs_background": "light"
     },
     "output_type": "display_data"
    }
   ],
   "source": [
    "plt.figure(figsize=(15,10))\n",
    "plt.title(\"Confirmed Cases Outside China\")\n",
    "plt.xlabel('Region')\n",
    "plt.ylabel('Confirmed Cases')\n",
    "data_region_confirmed.plot(kind = 'bar')"
   ]
  },
  {
   "cell_type": "code",
   "execution_count": 23,
   "metadata": {},
   "outputs": [
    {
     "data": {
      "text/plain": [
       "Timestamp('2020-03-03 12:00:00')"
      ]
     },
     "execution_count": 23,
     "metadata": {},
     "output_type": "execute_result"
    }
   ],
   "source": [
    "data['Date'].max()"
   ]
  },
  {
   "cell_type": "code",
   "execution_count": 24,
   "metadata": {},
   "outputs": [
    {
     "data": {
      "text/plain": [
       "Timestamp('2020-01-22 00:00:00')"
      ]
     },
     "execution_count": 24,
     "metadata": {},
     "output_type": "execute_result"
    }
   ],
   "source": [
    "data['Date'].min()"
   ]
  },
  {
   "cell_type": "code",
   "execution_count": 25,
   "metadata": {},
   "outputs": [
    {
     "data": {
      "text/html": [
       "<div>\n",
       "<style scoped>\n",
       "    .dataframe tbody tr th:only-of-type {\n",
       "        vertical-align: middle;\n",
       "    }\n",
       "\n",
       "    .dataframe tbody tr th {\n",
       "        vertical-align: top;\n",
       "    }\n",
       "\n",
       "    .dataframe thead th {\n",
       "        text-align: right;\n",
       "    }\n",
       "</style>\n",
       "<table border=\"1\" class=\"dataframe\">\n",
       "  <thead>\n",
       "    <tr style=\"text-align: right;\">\n",
       "      <th></th>\n",
       "      <th>Date</th>\n",
       "      <th>Province</th>\n",
       "      <th>Region</th>\n",
       "      <th>Last Update</th>\n",
       "      <th>Confirmed</th>\n",
       "      <th>Deaths</th>\n",
       "      <th>Recovered</th>\n",
       "      <th>Lat</th>\n",
       "      <th>Long</th>\n",
       "    </tr>\n",
       "  </thead>\n",
       "  <tbody>\n",
       "    <tr>\n",
       "      <td>0</td>\n",
       "      <td>2020-03-03 12:00:00</td>\n",
       "      <td>Hubei</td>\n",
       "      <td>Mainland China</td>\n",
       "      <td>2020-03-03 11:43:02</td>\n",
       "      <td>67217</td>\n",
       "      <td>2835</td>\n",
       "      <td>36208</td>\n",
       "      <td>30.9756</td>\n",
       "      <td>112.2707</td>\n",
       "    </tr>\n",
       "    <tr>\n",
       "      <td>1</td>\n",
       "      <td>2020-03-03 12:00:00</td>\n",
       "      <td>NaN</td>\n",
       "      <td>South Korea</td>\n",
       "      <td>2020-03-03 09:43:02</td>\n",
       "      <td>5186</td>\n",
       "      <td>28</td>\n",
       "      <td>30</td>\n",
       "      <td>36.0000</td>\n",
       "      <td>128.0000</td>\n",
       "    </tr>\n",
       "    <tr>\n",
       "      <td>2</td>\n",
       "      <td>2020-03-03 12:00:00</td>\n",
       "      <td>NaN</td>\n",
       "      <td>Italy</td>\n",
       "      <td>2020-03-03 20:03:06</td>\n",
       "      <td>2502</td>\n",
       "      <td>79</td>\n",
       "      <td>160</td>\n",
       "      <td>43.0000</td>\n",
       "      <td>12.0000</td>\n",
       "    </tr>\n",
       "    <tr>\n",
       "      <td>3</td>\n",
       "      <td>2020-03-03 12:00:00</td>\n",
       "      <td>NaN</td>\n",
       "      <td>Iran</td>\n",
       "      <td>2020-03-03 14:23:03</td>\n",
       "      <td>2336</td>\n",
       "      <td>77</td>\n",
       "      <td>291</td>\n",
       "      <td>32.0000</td>\n",
       "      <td>53.0000</td>\n",
       "    </tr>\n",
       "    <tr>\n",
       "      <td>4</td>\n",
       "      <td>2020-03-03 12:00:00</td>\n",
       "      <td>Guangdong</td>\n",
       "      <td>Mainland China</td>\n",
       "      <td>2020-03-03 10:23:10</td>\n",
       "      <td>1350</td>\n",
       "      <td>7</td>\n",
       "      <td>1101</td>\n",
       "      <td>23.3417</td>\n",
       "      <td>113.4244</td>\n",
       "    </tr>\n",
       "    <tr>\n",
       "      <td>...</td>\n",
       "      <td>...</td>\n",
       "      <td>...</td>\n",
       "      <td>...</td>\n",
       "      <td>...</td>\n",
       "      <td>...</td>\n",
       "      <td>...</td>\n",
       "      <td>...</td>\n",
       "      <td>...</td>\n",
       "      <td>...</td>\n",
       "    </tr>\n",
       "    <tr>\n",
       "      <td>146</td>\n",
       "      <td>2020-03-03 12:00:00</td>\n",
       "      <td>NaN</td>\n",
       "      <td>Ukraine</td>\n",
       "      <td>2020-03-03 15:33:02</td>\n",
       "      <td>1</td>\n",
       "      <td>0</td>\n",
       "      <td>0</td>\n",
       "      <td>48.3794</td>\n",
       "      <td>31.1656</td>\n",
       "    </tr>\n",
       "    <tr>\n",
       "      <td>147</td>\n",
       "      <td>2020-03-03 12:00:00</td>\n",
       "      <td>From Diamond Princess</td>\n",
       "      <td>Australia</td>\n",
       "      <td>2020-02-29 02:03:10</td>\n",
       "      <td>0</td>\n",
       "      <td>0</td>\n",
       "      <td>0</td>\n",
       "      <td>35.4437</td>\n",
       "      <td>139.6380</td>\n",
       "    </tr>\n",
       "    <tr>\n",
       "      <td>148</td>\n",
       "      <td>2020-03-03 12:00:00</td>\n",
       "      <td>Lackland, TX (From Diamond Princess)</td>\n",
       "      <td>US</td>\n",
       "      <td>2020-02-24 23:33:02</td>\n",
       "      <td>0</td>\n",
       "      <td>0</td>\n",
       "      <td>0</td>\n",
       "      <td>29.3829</td>\n",
       "      <td>-98.6134</td>\n",
       "    </tr>\n",
       "    <tr>\n",
       "      <td>149</td>\n",
       "      <td>2020-03-03 12:00:00</td>\n",
       "      <td>Omaha, NE (From Diamond Princess)</td>\n",
       "      <td>US</td>\n",
       "      <td>2020-02-24 23:33:02</td>\n",
       "      <td>0</td>\n",
       "      <td>0</td>\n",
       "      <td>0</td>\n",
       "      <td>41.2545</td>\n",
       "      <td>-95.9758</td>\n",
       "    </tr>\n",
       "    <tr>\n",
       "      <td>150</td>\n",
       "      <td>2020-03-03 12:00:00</td>\n",
       "      <td>Travis, CA (From Diamond Princess)</td>\n",
       "      <td>US</td>\n",
       "      <td>2020-02-24 23:33:02</td>\n",
       "      <td>0</td>\n",
       "      <td>0</td>\n",
       "      <td>0</td>\n",
       "      <td>38.2721</td>\n",
       "      <td>-121.9399</td>\n",
       "    </tr>\n",
       "  </tbody>\n",
       "</table>\n",
       "<p>151 rows × 9 columns</p>\n",
       "</div>"
      ],
      "text/plain": [
       "                   Date                              Province          Region  \\\n",
       "0   2020-03-03 12:00:00                                 Hubei  Mainland China   \n",
       "1   2020-03-03 12:00:00                                   NaN     South Korea   \n",
       "2   2020-03-03 12:00:00                                   NaN           Italy   \n",
       "3   2020-03-03 12:00:00                                   NaN            Iran   \n",
       "4   2020-03-03 12:00:00                             Guangdong  Mainland China   \n",
       "..                  ...                                   ...             ...   \n",
       "146 2020-03-03 12:00:00                                   NaN         Ukraine   \n",
       "147 2020-03-03 12:00:00                 From Diamond Princess       Australia   \n",
       "148 2020-03-03 12:00:00  Lackland, TX (From Diamond Princess)              US   \n",
       "149 2020-03-03 12:00:00     Omaha, NE (From Diamond Princess)              US   \n",
       "150 2020-03-03 12:00:00    Travis, CA (From Diamond Princess)              US   \n",
       "\n",
       "            Last Update  Confirmed  Deaths  Recovered      Lat      Long  \n",
       "0   2020-03-03 11:43:02      67217    2835      36208  30.9756  112.2707  \n",
       "1   2020-03-03 09:43:02       5186      28         30  36.0000  128.0000  \n",
       "2   2020-03-03 20:03:06       2502      79        160  43.0000   12.0000  \n",
       "3   2020-03-03 14:23:03       2336      77        291  32.0000   53.0000  \n",
       "4   2020-03-03 10:23:10       1350       7       1101  23.3417  113.4244  \n",
       "..                  ...        ...     ...        ...      ...       ...  \n",
       "146 2020-03-03 15:33:02          1       0          0  48.3794   31.1656  \n",
       "147 2020-02-29 02:03:10          0       0          0  35.4437  139.6380  \n",
       "148 2020-02-24 23:33:02          0       0          0  29.3829  -98.6134  \n",
       "149 2020-02-24 23:33:02          0       0          0  41.2545  -95.9758  \n",
       "150 2020-02-24 23:33:02          0       0          0  38.2721 -121.9399  \n",
       "\n",
       "[151 rows x 9 columns]"
      ]
     },
     "execution_count": 25,
     "metadata": {},
     "output_type": "execute_result"
    }
   ],
   "source": [
    "data[data['Date'] == '2020-03-03 12:00:00']"
   ]
  },
  {
   "cell_type": "code",
   "execution_count": 26,
   "metadata": {},
   "outputs": [
    {
     "data": {
      "image/png": "[encoded data removed]",
      "text/plain": [
       "<Figure size 864x576 with 1 Axes>"
      ]
     },
     "metadata": {
      "needs_background": "light"
     },
     "output_type": "display_data"
    }
   ],
   "source": [
    "data_latest = data[data['Date'] == '2020-03-03 12:00:00']\n",
    "data_latest_China = data_latest[data_latest['Region'] == 'Mainland China']\n",
    "plt.figure(figsize=(12,8))\n",
    "plt.barh(data_latest_China.Province, data_latest_China.Confirmed)\n",
    "plt.xlabel('Confirmed Cases')\n",
    "plt.ylabel('Provinces in China')\n",
    "plt.show()"
   ]
  },
  {
   "cell_type": "code",
   "execution_count": 27,
   "metadata": {},
   "outputs": [
    {
     "data": {
      "image/png": "[encoded data removed]",
      "text/plain": [
       "<Figure size 864x576 with 1 Axes>"
      ]
     },
     "metadata": {
      "needs_background": "light"
     },
     "output_type": "display_data"
    }
   ],
   "source": [
    "plt.figure(figsize=(12, 8))\n",
    "plt.xticks(rotation=50,size=8)\n",
    "plt.plot(data[data['Province']=='Hubei'].Date,data[data['Province']=='Hubei'].Deaths,color='red')\n",
    "plt.plot(data[data['Province']=='Hubei'].Date,data[data['Province']=='Hubei'].Recovered,color='green')\n",
    "plt.legend(['death','recovered'],fontsize=12)\n",
    "plt.title('Deaths and Recoveries in Hubei Province')\n",
    "plt.xlabel('Date',size=12)\n",
    "plt.ylabel('Cases',size=12)\n",
    "plt.style.use('dark_background')\n",
    "plt.show()"
   ]
  },
  {
   "cell_type": "code",
   "execution_count": 28,
   "metadata": {},
   "outputs": [
    {
     "data": {
      "image/png": "[encoded data removed]",
      "text/plain": [
       "<Figure size 864x864 with 1 Axes>"
      ]
     },
     "metadata": {},
     "output_type": "display_data"
    }
   ],
   "source": [
    "plt.figure(figsize = (12,12))\n",
    "plt.pie(data_latest_China.Confirmed)\n",
    "plt.legend(data_latest_China.Province, loc='best')\n",
    "plt.style.use('dark_background')\n",
    "plt.show()"
   ]
  },
  {
   "cell_type": "code",
   "execution_count": 29,
   "metadata": {},
   "outputs": [
    {
     "data": {
      "text/html": [
       "<div>\n",
       "<style scoped>\n",
       "    .dataframe tbody tr th:only-of-type {\n",
       "        vertical-align: middle;\n",
       "    }\n",
       "\n",
       "    .dataframe tbody tr th {\n",
       "        vertical-align: top;\n",
       "    }\n",
       "\n",
       "    .dataframe thead th {\n",
       "        text-align: right;\n",
       "    }\n",
       "</style>\n",
       "<table border=\"1\" class=\"dataframe\">\n",
       "  <thead>\n",
       "    <tr style=\"text-align: right;\">\n",
       "      <th></th>\n",
       "      <th>Confirmed</th>\n",
       "      <th>Deaths</th>\n",
       "      <th>Recovered</th>\n",
       "      <th>Lat</th>\n",
       "      <th>Long</th>\n",
       "    </tr>\n",
       "    <tr>\n",
       "      <th>Date</th>\n",
       "      <th></th>\n",
       "      <th></th>\n",
       "      <th></th>\n",
       "      <th></th>\n",
       "      <th></th>\n",
       "    </tr>\n",
       "  </thead>\n",
       "  <tbody>\n",
       "    <tr>\n",
       "      <td>2020-01-22 00:00:00</td>\n",
       "      <td>62</td>\n",
       "      <td>0</td>\n",
       "      <td>0</td>\n",
       "      <td>0.0</td>\n",
       "      <td>0.0</td>\n",
       "    </tr>\n",
       "    <tr>\n",
       "      <td>2020-01-22 12:00:00</td>\n",
       "      <td>111</td>\n",
       "      <td>0</td>\n",
       "      <td>0</td>\n",
       "      <td>0.0</td>\n",
       "      <td>0.0</td>\n",
       "    </tr>\n",
       "    <tr>\n",
       "      <td>2020-01-23 12:00:00</td>\n",
       "      <td>209</td>\n",
       "      <td>1</td>\n",
       "      <td>2</td>\n",
       "      <td>0.0</td>\n",
       "      <td>0.0</td>\n",
       "    </tr>\n",
       "    <tr>\n",
       "      <td>2020-01-24 00:00:00</td>\n",
       "      <td>332</td>\n",
       "      <td>2</td>\n",
       "      <td>3</td>\n",
       "      <td>0.0</td>\n",
       "      <td>0.0</td>\n",
       "    </tr>\n",
       "    <tr>\n",
       "      <td>2020-01-24 12:00:00</td>\n",
       "      <td>392</td>\n",
       "      <td>2</td>\n",
       "      <td>5</td>\n",
       "      <td>0.0</td>\n",
       "      <td>0.0</td>\n",
       "    </tr>\n",
       "  </tbody>\n",
       "</table>\n",
       "</div>"
      ],
      "text/plain": [
       "                     Confirmed  Deaths  Recovered  Lat  Long\n",
       "Date                                                        \n",
       "2020-01-22 00:00:00         62       0          0  0.0   0.0\n",
       "2020-01-22 12:00:00        111       0          0  0.0   0.0\n",
       "2020-01-23 12:00:00        209       1          2  0.0   0.0\n",
       "2020-01-24 00:00:00        332       2          3  0.0   0.0\n",
       "2020-01-24 12:00:00        392       2          5  0.0   0.0"
      ]
     },
     "execution_count": 29,
     "metadata": {},
     "output_type": "execute_result"
    }
   ],
   "source": [
    "data_outside_hubei = data[data['Province']!='Hubei']\n",
    "grouped_data_outside_hubei = data_outside_hubei.groupby('Date').sum()\n",
    "grouped_data_outside_hubei.head()"
   ]
  },
  {
   "cell_type": "code",
   "execution_count": 30,
   "metadata": {},
   "outputs": [
    {
     "data": {
      "image/png": "[encoded data removed]",
      "text/plain": [
       "<Figure size 1080x720 with 1 Axes>"
      ]
     },
     "metadata": {},
     "output_type": "display_data"
    }
   ],
   "source": [
    "plt.figure(figsize=(15, 10))\n",
    "plt.xticks(rotation=50,size=10)\n",
    "plt.plot(data[data['Province']=='Hubei'].Date,data[data['Province']=='Hubei'].Deaths/data[data['Province']=='Hubei'].Confirmed,color='red')\n",
    "plt.plot(grouped_data_outside_hubei['Deaths']/grouped_data_outside_hubei['Confirmed'],color='yellow')\n",
    "plt.title('Death Rate in Hubei VS Outside Hubei')\n",
    "plt.xlabel('Date',size=20)\n",
    "plt.ylabel('Death Rate',size=20)\n",
    "plt.legend(['Hubei','Outside Hubei'],fontsize=15)\n",
    "plt.show()"
   ]
  },
  {
   "cell_type": "markdown",
   "metadata": {},
   "source": [
    "### We can get the conclusion that the death rate inside Hubei is significant higher than than other provinces.\n",
    "\n",
    "There might be three possible reasons:\n",
    "\n",
    "- After isolation of several major cities in Hubei province, there is a significant lack of medical resources, and people suffer from great anxieties which causes the high death rate.\n",
    "- The toxicity of the virus has reduced after it spreads outside Huber province.\n",
    "- The number of mild patients in Hubei Province is severely underestimated。"
   ]
  }
 ],
 "metadata": {
  "kernelspec": {
   "display_name": "Python 3",
   "language": "python",
   "name": "python3"
  },
  "language_info": {
   "codemirror_mode": {
    "name": "ipython",
    "version": 3
   },
   "file_extension": ".py",
   "mimetype": "text/x-python",
   "name": "python",
   "nbconvert_exporter": "python",
   "pygments_lexer": "ipython3",
   "version": "3.7.4"
  }
 },
 "nbformat": 4,
 "nbformat_minor": 2
}
